{
  "nbformat": 4,
  "nbformat_minor": 0,
  "metadata": {
    "colab": {
      "name": "1주차 과제.ipynb",
      "provenance": [],
      "authorship_tag": "ABX9TyNEECgfHyk4ClN/u2fhsBdl",
      "include_colab_link": true
    },
    "kernelspec": {
      "name": "python3",
      "display_name": "Python 3"
    }
  },
  "cells": [
    {
      "cell_type": "markdown",
      "metadata": {
        "id": "view-in-github",
        "colab_type": "text"
      },
      "source": [
        "<a href=\"https://colab.research.google.com/github/mgsocial/Gvalley/blob/master/1%EC%A3%BC%EC%B0%A8_%EA%B3%BC%EC%A0%9C.ipynb\" target=\"_parent\"><img src=\"https://colab.research.google.com/assets/colab-badge.svg\" alt=\"Open In Colab\"/></a>"
      ]
    },
    {
      "cell_type": "markdown",
      "metadata": {
        "id": "esSspP8ikkqv",
        "colab_type": "text"
      },
      "source": [
        "To-Do\n",
        "**1주차 과제 제출하기**"
      ]
    },
    {
      "cell_type": "markdown",
      "metadata": {
        "id": "alLVHDMulCRO",
        "colab_type": "text"
      },
      "source": [
        "날짜 : 2020-05-25\n"
      ]
    },
    {
      "cell_type": "markdown",
      "metadata": {
        "id": "7dF0nheDlsHq",
        "colab_type": "text"
      },
      "source": [
        "* 언어 관련 인공지능 \n",
        "\n",
        "![텐서플로](https://lh3.googleusercontent.com/proxy/J8Ep785UMhn15Oc4iChw-367snfDVfy4GeUTh1_6eopfxcKQw4mUxiLiZfk8P0XVVuV6NQM4OXl08OdDu7d4JQUE1yx7TdXZ1hh_juPvnU3bhmRuuAPgjmxx7A)\n",
        "\n",
        "구글이 개발한 머신러닝 오픈소스 프레임워크인 텐서플로를 활용하여 하루에 1억 개 이상의 스팸 메일을 추가로 차단함\n",
        "\n",
        "  : 이미지를 기반으로 한 메시지, 악성코드가 내용물에 숨겨져 있는 이메일, 새롭게 생성된 도메인으로부터 발송된 악성 메시지, 스팸이지만 볼륨이 낮아 정상 트래픽과 구분이 가지 않는 경우도 탐지가 가능\n",
        "\n",
        "\n"
      ]
    },
    {
      "cell_type": "markdown",
      "metadata": {
        "id": "4BKLGB0IbLn0",
        "colab_type": "text"
      },
      "source": [
        "* 음성 관련 인공지능\n",
        "\n",
        "![알렉사](https://www.mediasr.co.kr/news/photo/201806/48712_7448_5154.jpg)\n",
        "\n",
        "아마존의 AI비서 '알렉사'가 자사 뉴스 소식을 전하는 블로그를 통해 머신러닝(기계학습)으로 수많은 뉴스 오디오 클립으로부터 낭독 기술을 배운 뒤 자체적으로 뉴스 낭독함\n",
        "\n",
        " : 뉴스 진행자가 읽어주는 것 같은 뉴스 낭독 품질을 구현하기 위해 문자를 음성으로 바꿔주는 기술인 TTS(Text-to-speech) 기술에 머신러닝을 결합\n",
        "\n"
      ]
    },
    {
      "cell_type": "markdown",
      "metadata": {
        "id": "K2vqtKYtb3AI",
        "colab_type": "text"
      },
      "source": [
        "* 이미지 관련 인공지능\n",
        "\n",
        "![코로나19 진단](http://itimg.chosun.com/sitedata/image/202005/25/2020052501299_0.png)\n",
        "\n",
        "한국과학기술원(KAIST)은 예종철 바이오및뇌공학과 교수 연구팀이 흉부 단순 방사선 촬영 영상으로 코로나19 진단의 정확성을 개선한 인공지능 기술 개발함\n",
        "\n",
        " : 개발한 AI 기술을 사용하여 코로나19 감염 여부를 진단한 결과, 영상 판독 전문가의 69%보다 17%가 향상된 86% 이상의 우수한 정확성\n",
        "\n"
      ]
    },
    {
      "cell_type": "markdown",
      "metadata": {
        "id": "6yYNPWB8dqK4",
        "colab_type": "text"
      },
      "source": [
        "* 자율주행 관련 인공지능\n",
        "\n",
        "![커넥티드 카](https://byline.network/wp-content/uploads/2019/01/dims.jpeg)\n",
        "\n",
        "LG전자가 마이크로소프트의 클라우드 플랫폼 '애저'를 활용해 다목적 전방 카메라, 운전자 모니터링 시스템, ADAS(Advanced Driver Assistance Systems), 음성으로 명령할 수 있는 차량용 인포테인먼트 시스템 등을 개발\n",
        "\n",
        " : 자동차 관련 업체들이 커넥티드 카 개발 과정에서 마이크로소프트를 찾는 이유는 '클라우드'가 커넥티드 카 개발에 필수적인 요소이기 때문. MS는 인공지능 및 클라우드 기술로 미래 자동차 기술 개발을 지원"
      ]
    }
  ]
}